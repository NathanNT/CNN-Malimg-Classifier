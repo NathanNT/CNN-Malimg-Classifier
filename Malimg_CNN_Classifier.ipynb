{
 "cells": [
  {
   "cell_type": "code",
   "execution_count": 1,
   "metadata": {},
   "outputs": [],
   "source": [
    "import os\n",
    "import numpy as np\n",
    "import matplotlib.pyplot as plt\n",
    "from sklearn.preprocessing import OneHotEncoder\n",
    "from keras.preprocessing.image import load_img, img_to_array\n",
    "from keras.applications.vgg16 import preprocess_input, VGG16\n",
    "from keras.models import Sequential\n",
    "from keras.layers import Dense, Activation, Flatten, Conv2D\n",
    "from sklearn.model_selection import train_test_split\n",
    "\n",
    "def load_images_from_directory(directory, target_size=(32, 32)):\n",
    "    # Load images and their labels from a directory\n",
    "    images, labels = [], []\n",
    "    for label_dir in os.listdir(directory):\n",
    "        label_path = os.path.join(directory, label_dir)\n",
    "        if os.path.isdir(label_path):\n",
    "            for file in os.listdir(label_path):\n",
    "                img_path = os.path.join(label_path, file)\n",
    "                image = load_img(img_path, target_size=target_size)\n",
    "                image = img_to_array(image)\n",
    "                images.append(image)\n",
    "                labels.append(label_dir)\n",
    "    return np.array(images), np.array(labels)\n",
    "\n",
    "def preprocess_labels(labels):\n",
    "    # One-Hot encode the labels\n",
    "    encoder = OneHotEncoder(sparse_output=False)\n",
    "    labels_encoded = encoder.fit_transform(labels.reshape(-1, 1))\n",
    "    return labels_encoded, encoder\n",
    "\n",
    "def build_vgg16_model(input_shape, num_classes):\n",
    "    # Build and compile a VGG16-based model\n",
    "    model = Sequential()\n",
    "    model.add(Conv2D(3, (3, 3), padding='same', input_shape=input_shape))\n",
    "    model.add(Activation('relu'))\n",
    "\n",
    "    vgg_base = VGG16(weights='imagenet', include_top=False)\n",
    "    for layer in vgg_base.layers:\n",
    "        layer.trainable = False\n",
    "    model.add(vgg_base)\n",
    "    \n",
    "    model.add(Flatten())\n",
    "    model.add(Dense(128, activation='relu'))\n",
    "    model.add(Dense(num_classes, activation='softmax'))\n",
    "\n",
    "    model.compile(optimizer='adam', loss='categorical_crossentropy', metrics=['accuracy'])\n",
    "    return model\n",
    "\n",
    "def plot_training_history(history):\n",
    "    # Plot loss and accuracy curves during training\n",
    "    plt.figure(figsize=(12, 4))\n",
    "    \n",
    "    plt.subplot(1, 2, 1)\n",
    "    plt.plot(history.history['loss'], label='Train Loss')\n",
    "    plt.plot(history.history['val_loss'], label='Validation Loss')\n",
    "    plt.title('Loss')\n",
    "    plt.xlabel('Epochs')\n",
    "    plt.ylabel('Loss')\n",
    "    plt.legend()\n",
    "    \n",
    "    plt.subplot(1, 2, 2)\n",
    "    plt.plot(history.history['accuracy'], label='Train Accuracy')\n",
    "    plt.plot(history.history['val_accuracy'], label='Validation Accuracy')\n",
    "    plt.title('Accuracy')\n",
    "    plt.xlabel('Epochs')\n",
    "    plt.ylabel('Accuracy')\n",
    "    plt.legend()\n",
    "    \n",
    "    plt.show()\n"
   ]
  },
  {
   "cell_type": "code",
   "execution_count": 2,
   "metadata": {},
   "outputs": [],
   "source": [
    "if __name__ == \"__main__\":\n",
    "    # Define paths\n",
    "    train_dir = 'dataset_9010/dataset_9010/malimg_dataset/train'\n",
    "    validation_dir = 'dataset_9010/dataset_9010/malimg_dataset/validation'\n",
    "\n",
    "    # Load and preprocess the data\n",
    "    X_train, y_train = load_images_from_directory(train_dir)\n",
    "    X_test, y_test = load_images_from_directory(validation_dir)\n",
    "\n",
    "    X_train = preprocess_input(X_train)\n",
    "    X_test = preprocess_input(X_test)"
   ]
  },
  {
   "cell_type": "code",
   "execution_count": 3,
   "metadata": {},
   "outputs": [
    {
     "name": "stderr",
     "output_type": "stream",
     "text": [
      "c:\\Users\\Utilisateur\\AppData\\Local\\Programs\\Python\\Python312\\Lib\\site-packages\\keras\\src\\layers\\convolutional\\base_conv.py:107: UserWarning: Do not pass an `input_shape`/`input_dim` argument to a layer. When using Sequential models, prefer using an `Input(shape)` object as the first layer in the model instead.\n",
      "  super().__init__(activity_regularizer=activity_regularizer, **kwargs)\n"
     ]
    }
   ],
   "source": [
    "    y_train, encoder = preprocess_labels(y_train)\n",
    "    y_test = encoder.transform(y_test.reshape(-1, 1))\n",
    "\n",
    "    # Build the model\n",
    "    model = build_vgg16_model(input_shape=X_train.shape[1:], num_classes=y_train.shape[1])"
   ]
  },
  {
   "cell_type": "code",
   "execution_count": 4,
   "metadata": {},
   "outputs": [
    {
     "name": "stdout",
     "output_type": "stream",
     "text": [
      "Epoch 1/20\n",
      "\u001b[1m421/421\u001b[0m \u001b[32m━━━━━━━━━━━━━━━━━━━━\u001b[0m\u001b[37m\u001b[0m \u001b[1m35s\u001b[0m 79ms/step - accuracy: 0.5262 - loss: 3.2704 - val_accuracy: 0.6267 - val_loss: 1.1560\n",
      "Epoch 2/20\n",
      "\u001b[1m421/421\u001b[0m \u001b[32m━━━━━━━━━━━━━━━━━━━━\u001b[0m\u001b[37m\u001b[0m \u001b[1m31s\u001b[0m 73ms/step - accuracy: 0.7374 - loss: 0.7831 - val_accuracy: 0.7102 - val_loss: 0.8881\n",
      "Epoch 3/20\n",
      "\u001b[1m421/421\u001b[0m \u001b[32m━━━━━━━━━━━━━━━━━━━━\u001b[0m\u001b[37m\u001b[0m \u001b[1m33s\u001b[0m 78ms/step - accuracy: 0.7672 - loss: 0.6250 - val_accuracy: 0.7476 - val_loss: 0.7656\n",
      "Epoch 4/20\n",
      "\u001b[1m421/421\u001b[0m \u001b[32m━━━━━━━━━━━━━━━━━━━━\u001b[0m\u001b[37m\u001b[0m \u001b[1m30s\u001b[0m 71ms/step - accuracy: 0.7845 - loss: 0.5687 - val_accuracy: 0.7615 - val_loss: 0.6757\n",
      "Epoch 5/20\n",
      "\u001b[1m421/421\u001b[0m \u001b[32m━━━━━━━━━━━━━━━━━━━━\u001b[0m\u001b[37m\u001b[0m \u001b[1m34s\u001b[0m 80ms/step - accuracy: 0.7994 - loss: 0.5143 - val_accuracy: 0.7807 - val_loss: 0.6790\n",
      "Epoch 6/20\n",
      "\u001b[1m421/421\u001b[0m \u001b[32m━━━━━━━━━━━━━━━━━━━━\u001b[0m\u001b[37m\u001b[0m \u001b[1m30s\u001b[0m 70ms/step - accuracy: 0.8035 - loss: 0.5079 - val_accuracy: 0.7914 - val_loss: 0.6530\n",
      "Epoch 7/20\n",
      "\u001b[1m421/421\u001b[0m \u001b[32m━━━━━━━━━━━━━━━━━━━━\u001b[0m\u001b[37m\u001b[0m \u001b[1m29s\u001b[0m 70ms/step - accuracy: 0.8047 - loss: 0.4921 - val_accuracy: 0.7861 - val_loss: 0.5908\n",
      "Epoch 8/20\n",
      "\u001b[1m379/421\u001b[0m \u001b[32m━━━━━━━━━━━━━━━━━━\u001b[0m\u001b[37m━━\u001b[0m \u001b[1m2s\u001b[0m 68ms/step - accuracy: 0.8117 - loss: 0.4756"
     ]
    }
   ],
   "source": [
    "    # Train the model\n",
    "    batch_size = 20\n",
    "    epochs = 20\n",
    "    history = model.fit(X_train, y_train, epochs=epochs, batch_size=batch_size, validation_data=(X_test, y_test))\n",
    "\n",
    "    # Save the model\n",
    "    model.save('malimg_model.h5')"
   ]
  },
  {
   "cell_type": "code",
   "execution_count": null,
   "metadata": {},
   "outputs": [],
   "source": [
    "    # Evaluate the model\n",
    "    test_loss, test_accuracy = model.evaluate(X_test, y_test, verbose=0)\n",
    "    print(f\"Test Loss: {test_loss:.4f}, Test Accuracy: {test_accuracy:.4f}\")\n",
    "\n",
    "    # Plot training history\n",
    "    plot_training_history(history)"
   ]
  }
 ],
 "metadata": {
  "kernelspec": {
   "display_name": "Python 3",
   "language": "python",
   "name": "python3"
  },
  "language_info": {
   "codemirror_mode": {
    "name": "ipython",
    "version": 3
   },
   "file_extension": ".py",
   "mimetype": "text/x-python",
   "name": "python",
   "nbconvert_exporter": "python",
   "pygments_lexer": "ipython3",
   "version": "3.12.3"
  }
 },
 "nbformat": 4,
 "nbformat_minor": 2
}
